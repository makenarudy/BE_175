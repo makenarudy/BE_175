{
 "cells": [
  {
   "cell_type": "markdown",
   "id": "8f1fbdae-0705-4445-89ea-3680af9c8501",
   "metadata": {
    "tags": []
   },
   "source": [
    "# Downloading and Formatting Dataset"
   ]
  },
  {
   "cell_type": "code",
   "execution_count": 54,
   "id": "2e1073e6-6e05-46fe-94f3-3339bd00099e",
   "metadata": {
    "tags": []
   },
   "outputs": [
    {
     "name": "stdout",
     "output_type": "stream",
     "text": [
      "Requirement already satisfied: ucimlrepo in /opt/conda/lib/python3.10/site-packages (0.0.3)\n",
      "Note: you may need to restart the kernel to use updated packages.\n"
     ]
    }
   ],
   "source": [
    "pip install ucimlrepo"
   ]
  },
  {
   "cell_type": "code",
   "execution_count": 55,
   "id": "29f9d087-f9c1-4831-b6cc-ea839927b89a",
   "metadata": {
    "tags": []
   },
   "outputs": [
    {
     "name": "stdout",
     "output_type": "stream",
     "text": [
      "{'uci_id': 17, 'name': 'Breast Cancer Wisconsin (Diagnostic)', 'repository_url': 'https://archive.ics.uci.edu/dataset/17/breast+cancer+wisconsin+diagnostic', 'data_url': 'https://archive.ics.uci.edu/static/public/17/data.csv', 'abstract': 'Diagnostic Wisconsin Breast Cancer Database.', 'area': 'Health and Medicine', 'tasks': ['Classification'], 'characteristics': ['Multivariate'], 'num_instances': 569, 'num_features': 30, 'feature_types': ['Real'], 'demographics': [], 'target_col': ['Diagnosis'], 'index_col': ['ID'], 'has_missing_values': 'no', 'missing_values_symbol': None, 'year_of_dataset_creation': 1993, 'last_updated': 'Fri Nov 03 2023', 'dataset_doi': '10.24432/C5DW2B', 'creators': ['William Wolberg', 'Olvi Mangasarian', 'Nick Street', 'W. Street'], 'intro_paper': {'title': 'Nuclear feature extraction for breast tumor diagnosis', 'authors': 'W. Street, W. Wolberg, O. Mangasarian', 'published_in': 'Electronic imaging', 'year': 1993, 'url': 'https://www.semanticscholar.org/paper/53f0fbb425bc14468eb3bf96b2e1d41ba8087f36', 'doi': '10.1117/12.148698'}, 'additional_info': {'summary': 'Features are computed from a digitized image of a fine needle aspirate (FNA) of a breast mass.  They describe characteristics of the cell nuclei present in the image. A few of the images can be found at http://www.cs.wisc.edu/~street/images/\\r\\n\\r\\nSeparating plane described above was obtained using Multisurface Method-Tree (MSM-T) [K. P. Bennett, \"Decision Tree Construction Via Linear Programming.\" Proceedings of the 4th Midwest Artificial Intelligence and Cognitive Science Society, pp. 97-101, 1992], a classification method which uses linear programming to construct a decision tree.  Relevant features were selected using an exhaustive search in the space of 1-4 features and 1-3 separating planes.\\r\\n\\r\\nThe actual linear program used to obtain the separating plane in the 3-dimensional space is that described in: [K. P. Bennett and O. L. Mangasarian: \"Robust Linear Programming Discrimination of Two Linearly Inseparable Sets\", Optimization Methods and Software 1, 1992, 23-34].\\r\\n\\r\\nThis database is also available through the UW CS ftp server:\\r\\nftp ftp.cs.wisc.edu\\r\\ncd math-prog/cpo-dataset/machine-learn/WDBC/', 'purpose': None, 'funded_by': None, 'instances_represent': None, 'recommended_data_splits': None, 'sensitive_data': None, 'preprocessing_description': None, 'variable_info': '1) ID number\\r\\n2) Diagnosis (M = malignant, B = benign)\\r\\n3-32)\\r\\n\\r\\nTen real-valued features are computed for each cell nucleus:\\r\\n\\r\\n\\ta) radius (mean of distances from center to points on the perimeter)\\r\\n\\tb) texture (standard deviation of gray-scale values)\\r\\n\\tc) perimeter\\r\\n\\td) area\\r\\n\\te) smoothness (local variation in radius lengths)\\r\\n\\tf) compactness (perimeter^2 / area - 1.0)\\r\\n\\tg) concavity (severity of concave portions of the contour)\\r\\n\\th) concave points (number of concave portions of the contour)\\r\\n\\ti) symmetry \\r\\n\\tj) fractal dimension (\"coastline approximation\" - 1)', 'citation': None}}\n",
      "                  name     role         type demographic description units  \\\n",
      "0                   ID       ID  Categorical        None        None  None   \n",
      "1            Diagnosis   Target  Categorical        None        None  None   \n",
      "2              radius1  Feature   Continuous        None        None  None   \n",
      "3             texture1  Feature   Continuous        None        None  None   \n",
      "4           perimeter1  Feature   Continuous        None        None  None   \n",
      "5                area1  Feature   Continuous        None        None  None   \n",
      "6          smoothness1  Feature   Continuous        None        None  None   \n",
      "7         compactness1  Feature   Continuous        None        None  None   \n",
      "8           concavity1  Feature   Continuous        None        None  None   \n",
      "9      concave_points1  Feature   Continuous        None        None  None   \n",
      "10           symmetry1  Feature   Continuous        None        None  None   \n",
      "11  fractal_dimension1  Feature   Continuous        None        None  None   \n",
      "12             radius2  Feature   Continuous        None        None  None   \n",
      "13            texture2  Feature   Continuous        None        None  None   \n",
      "14          perimeter2  Feature   Continuous        None        None  None   \n",
      "15               area2  Feature   Continuous        None        None  None   \n",
      "16         smoothness2  Feature   Continuous        None        None  None   \n",
      "17        compactness2  Feature   Continuous        None        None  None   \n",
      "18          concavity2  Feature   Continuous        None        None  None   \n",
      "19     concave_points2  Feature   Continuous        None        None  None   \n",
      "20           symmetry2  Feature   Continuous        None        None  None   \n",
      "21  fractal_dimension2  Feature   Continuous        None        None  None   \n",
      "22             radius3  Feature   Continuous        None        None  None   \n",
      "23            texture3  Feature   Continuous        None        None  None   \n",
      "24          perimeter3  Feature   Continuous        None        None  None   \n",
      "25               area3  Feature   Continuous        None        None  None   \n",
      "26         smoothness3  Feature   Continuous        None        None  None   \n",
      "27        compactness3  Feature   Continuous        None        None  None   \n",
      "28          concavity3  Feature   Continuous        None        None  None   \n",
      "29     concave_points3  Feature   Continuous        None        None  None   \n",
      "30           symmetry3  Feature   Continuous        None        None  None   \n",
      "31  fractal_dimension3  Feature   Continuous        None        None  None   \n",
      "\n",
      "   missing_values  \n",
      "0              no  \n",
      "1              no  \n",
      "2              no  \n",
      "3              no  \n",
      "4              no  \n",
      "5              no  \n",
      "6              no  \n",
      "7              no  \n",
      "8              no  \n",
      "9              no  \n",
      "10             no  \n",
      "11             no  \n",
      "12             no  \n",
      "13             no  \n",
      "14             no  \n",
      "15             no  \n",
      "16             no  \n",
      "17             no  \n",
      "18             no  \n",
      "19             no  \n",
      "20             no  \n",
      "21             no  \n",
      "22             no  \n",
      "23             no  \n",
      "24             no  \n",
      "25             no  \n",
      "26             no  \n",
      "27             no  \n",
      "28             no  \n",
      "29             no  \n",
      "30             no  \n",
      "31             no  \n"
     ]
    }
   ],
   "source": [
    "from ucimlrepo import fetch_ucirepo \n",
    "  \n",
    "# fetch dataset \n",
    "breast_cancer_wisconsin_diagnostic = fetch_ucirepo(id=17) \n",
    "  \n",
    "# data (as pandas dataframes) \n",
    "X = breast_cancer_wisconsin_diagnostic.data.features \n",
    "y = breast_cancer_wisconsin_diagnostic.data.targets \n",
    "  \n",
    "# metadata \n",
    "print(breast_cancer_wisconsin_diagnostic.metadata) \n",
    "  \n",
    "# variable information \n",
    "print(breast_cancer_wisconsin_diagnostic.variables) "
   ]
  },
  {
   "cell_type": "markdown",
   "id": "63c7df9c-396b-4efd-b185-2ec3bdbf2526",
   "metadata": {},
   "source": [
    "## Make pandas df of data"
   ]
  },
  {
   "cell_type": "code",
   "execution_count": 56,
   "id": "a538640f-ddef-41fb-8ae1-18e2937e4c02",
   "metadata": {},
   "outputs": [
    {
     "name": "stdout",
     "output_type": "stream",
     "text": [
      "['ID', 'Diagnosis', 'radius1', 'texture1', 'perimeter1', 'area1', 'smoothness1', 'compactness1', 'concavity1', 'concave_points1', 'symmetry1', 'fractal_dimension1', 'radius2', 'texture2', 'perimeter2', 'area2', 'smoothness2', 'compactness2', 'concavity2', 'concave_points2', 'symmetry2', 'fractal_dimension2', 'radius3', 'texture3', 'perimeter3', 'area3', 'smoothness3', 'compactness3', 'concavity3', 'concave_points3', 'symmetry3', 'fractal_dimension3']\n"
     ]
    }
   ],
   "source": [
    "# get list of column names \n",
    "import pandas as pd\n",
    "\n",
    "variables = pd.DataFrame(breast_cancer_wisconsin_diagnostic.variables)\n",
    "headerlist = variables['name'].to_list()\n",
    "print(headerlist)"
   ]
  },
  {
   "cell_type": "code",
   "execution_count": 57,
   "id": "715122a3-ed1e-46b7-9da5-42b670374c35",
   "metadata": {},
   "outputs": [
    {
     "data": {
      "text/html": [
       "<div>\n",
       "<style scoped>\n",
       "    .dataframe tbody tr th:only-of-type {\n",
       "        vertical-align: middle;\n",
       "    }\n",
       "\n",
       "    .dataframe tbody tr th {\n",
       "        vertical-align: top;\n",
       "    }\n",
       "\n",
       "    .dataframe thead th {\n",
       "        text-align: right;\n",
       "    }\n",
       "</style>\n",
       "<table border=\"1\" class=\"dataframe\">\n",
       "  <thead>\n",
       "    <tr style=\"text-align: right;\">\n",
       "      <th></th>\n",
       "      <th>ID</th>\n",
       "      <th>Diagnosis</th>\n",
       "      <th>radius1</th>\n",
       "      <th>texture1</th>\n",
       "      <th>perimeter1</th>\n",
       "      <th>area1</th>\n",
       "      <th>smoothness1</th>\n",
       "      <th>compactness1</th>\n",
       "      <th>concavity1</th>\n",
       "      <th>concave_points1</th>\n",
       "      <th>...</th>\n",
       "      <th>radius3</th>\n",
       "      <th>texture3</th>\n",
       "      <th>perimeter3</th>\n",
       "      <th>area3</th>\n",
       "      <th>smoothness3</th>\n",
       "      <th>compactness3</th>\n",
       "      <th>concavity3</th>\n",
       "      <th>concave_points3</th>\n",
       "      <th>symmetry3</th>\n",
       "      <th>fractal_dimension3</th>\n",
       "    </tr>\n",
       "  </thead>\n",
       "  <tbody>\n",
       "    <tr>\n",
       "      <th>0</th>\n",
       "      <td>842302</td>\n",
       "      <td>M</td>\n",
       "      <td>17.99</td>\n",
       "      <td>10.38</td>\n",
       "      <td>122.80</td>\n",
       "      <td>1001.0</td>\n",
       "      <td>0.11840</td>\n",
       "      <td>0.27760</td>\n",
       "      <td>0.30010</td>\n",
       "      <td>0.14710</td>\n",
       "      <td>...</td>\n",
       "      <td>25.380</td>\n",
       "      <td>17.33</td>\n",
       "      <td>184.60</td>\n",
       "      <td>2019.0</td>\n",
       "      <td>0.16220</td>\n",
       "      <td>0.66560</td>\n",
       "      <td>0.7119</td>\n",
       "      <td>0.2654</td>\n",
       "      <td>0.4601</td>\n",
       "      <td>0.11890</td>\n",
       "    </tr>\n",
       "    <tr>\n",
       "      <th>1</th>\n",
       "      <td>842517</td>\n",
       "      <td>M</td>\n",
       "      <td>20.57</td>\n",
       "      <td>17.77</td>\n",
       "      <td>132.90</td>\n",
       "      <td>1326.0</td>\n",
       "      <td>0.08474</td>\n",
       "      <td>0.07864</td>\n",
       "      <td>0.08690</td>\n",
       "      <td>0.07017</td>\n",
       "      <td>...</td>\n",
       "      <td>24.990</td>\n",
       "      <td>23.41</td>\n",
       "      <td>158.80</td>\n",
       "      <td>1956.0</td>\n",
       "      <td>0.12380</td>\n",
       "      <td>0.18660</td>\n",
       "      <td>0.2416</td>\n",
       "      <td>0.1860</td>\n",
       "      <td>0.2750</td>\n",
       "      <td>0.08902</td>\n",
       "    </tr>\n",
       "    <tr>\n",
       "      <th>2</th>\n",
       "      <td>84300903</td>\n",
       "      <td>M</td>\n",
       "      <td>19.69</td>\n",
       "      <td>21.25</td>\n",
       "      <td>130.00</td>\n",
       "      <td>1203.0</td>\n",
       "      <td>0.10960</td>\n",
       "      <td>0.15990</td>\n",
       "      <td>0.19740</td>\n",
       "      <td>0.12790</td>\n",
       "      <td>...</td>\n",
       "      <td>23.570</td>\n",
       "      <td>25.53</td>\n",
       "      <td>152.50</td>\n",
       "      <td>1709.0</td>\n",
       "      <td>0.14440</td>\n",
       "      <td>0.42450</td>\n",
       "      <td>0.4504</td>\n",
       "      <td>0.2430</td>\n",
       "      <td>0.3613</td>\n",
       "      <td>0.08758</td>\n",
       "    </tr>\n",
       "    <tr>\n",
       "      <th>3</th>\n",
       "      <td>84348301</td>\n",
       "      <td>M</td>\n",
       "      <td>11.42</td>\n",
       "      <td>20.38</td>\n",
       "      <td>77.58</td>\n",
       "      <td>386.1</td>\n",
       "      <td>0.14250</td>\n",
       "      <td>0.28390</td>\n",
       "      <td>0.24140</td>\n",
       "      <td>0.10520</td>\n",
       "      <td>...</td>\n",
       "      <td>14.910</td>\n",
       "      <td>26.50</td>\n",
       "      <td>98.87</td>\n",
       "      <td>567.7</td>\n",
       "      <td>0.20980</td>\n",
       "      <td>0.86630</td>\n",
       "      <td>0.6869</td>\n",
       "      <td>0.2575</td>\n",
       "      <td>0.6638</td>\n",
       "      <td>0.17300</td>\n",
       "    </tr>\n",
       "    <tr>\n",
       "      <th>4</th>\n",
       "      <td>84358402</td>\n",
       "      <td>M</td>\n",
       "      <td>20.29</td>\n",
       "      <td>14.34</td>\n",
       "      <td>135.10</td>\n",
       "      <td>1297.0</td>\n",
       "      <td>0.10030</td>\n",
       "      <td>0.13280</td>\n",
       "      <td>0.19800</td>\n",
       "      <td>0.10430</td>\n",
       "      <td>...</td>\n",
       "      <td>22.540</td>\n",
       "      <td>16.67</td>\n",
       "      <td>152.20</td>\n",
       "      <td>1575.0</td>\n",
       "      <td>0.13740</td>\n",
       "      <td>0.20500</td>\n",
       "      <td>0.4000</td>\n",
       "      <td>0.1625</td>\n",
       "      <td>0.2364</td>\n",
       "      <td>0.07678</td>\n",
       "    </tr>\n",
       "    <tr>\n",
       "      <th>...</th>\n",
       "      <td>...</td>\n",
       "      <td>...</td>\n",
       "      <td>...</td>\n",
       "      <td>...</td>\n",
       "      <td>...</td>\n",
       "      <td>...</td>\n",
       "      <td>...</td>\n",
       "      <td>...</td>\n",
       "      <td>...</td>\n",
       "      <td>...</td>\n",
       "      <td>...</td>\n",
       "      <td>...</td>\n",
       "      <td>...</td>\n",
       "      <td>...</td>\n",
       "      <td>...</td>\n",
       "      <td>...</td>\n",
       "      <td>...</td>\n",
       "      <td>...</td>\n",
       "      <td>...</td>\n",
       "      <td>...</td>\n",
       "      <td>...</td>\n",
       "    </tr>\n",
       "    <tr>\n",
       "      <th>564</th>\n",
       "      <td>926424</td>\n",
       "      <td>M</td>\n",
       "      <td>21.56</td>\n",
       "      <td>22.39</td>\n",
       "      <td>142.00</td>\n",
       "      <td>1479.0</td>\n",
       "      <td>0.11100</td>\n",
       "      <td>0.11590</td>\n",
       "      <td>0.24390</td>\n",
       "      <td>0.13890</td>\n",
       "      <td>...</td>\n",
       "      <td>25.450</td>\n",
       "      <td>26.40</td>\n",
       "      <td>166.10</td>\n",
       "      <td>2027.0</td>\n",
       "      <td>0.14100</td>\n",
       "      <td>0.21130</td>\n",
       "      <td>0.4107</td>\n",
       "      <td>0.2216</td>\n",
       "      <td>0.2060</td>\n",
       "      <td>0.07115</td>\n",
       "    </tr>\n",
       "    <tr>\n",
       "      <th>565</th>\n",
       "      <td>926682</td>\n",
       "      <td>M</td>\n",
       "      <td>20.13</td>\n",
       "      <td>28.25</td>\n",
       "      <td>131.20</td>\n",
       "      <td>1261.0</td>\n",
       "      <td>0.09780</td>\n",
       "      <td>0.10340</td>\n",
       "      <td>0.14400</td>\n",
       "      <td>0.09791</td>\n",
       "      <td>...</td>\n",
       "      <td>23.690</td>\n",
       "      <td>38.25</td>\n",
       "      <td>155.00</td>\n",
       "      <td>1731.0</td>\n",
       "      <td>0.11660</td>\n",
       "      <td>0.19220</td>\n",
       "      <td>0.3215</td>\n",
       "      <td>0.1628</td>\n",
       "      <td>0.2572</td>\n",
       "      <td>0.06637</td>\n",
       "    </tr>\n",
       "    <tr>\n",
       "      <th>566</th>\n",
       "      <td>926954</td>\n",
       "      <td>M</td>\n",
       "      <td>16.60</td>\n",
       "      <td>28.08</td>\n",
       "      <td>108.30</td>\n",
       "      <td>858.1</td>\n",
       "      <td>0.08455</td>\n",
       "      <td>0.10230</td>\n",
       "      <td>0.09251</td>\n",
       "      <td>0.05302</td>\n",
       "      <td>...</td>\n",
       "      <td>18.980</td>\n",
       "      <td>34.12</td>\n",
       "      <td>126.70</td>\n",
       "      <td>1124.0</td>\n",
       "      <td>0.11390</td>\n",
       "      <td>0.30940</td>\n",
       "      <td>0.3403</td>\n",
       "      <td>0.1418</td>\n",
       "      <td>0.2218</td>\n",
       "      <td>0.07820</td>\n",
       "    </tr>\n",
       "    <tr>\n",
       "      <th>567</th>\n",
       "      <td>927241</td>\n",
       "      <td>M</td>\n",
       "      <td>20.60</td>\n",
       "      <td>29.33</td>\n",
       "      <td>140.10</td>\n",
       "      <td>1265.0</td>\n",
       "      <td>0.11780</td>\n",
       "      <td>0.27700</td>\n",
       "      <td>0.35140</td>\n",
       "      <td>0.15200</td>\n",
       "      <td>...</td>\n",
       "      <td>25.740</td>\n",
       "      <td>39.42</td>\n",
       "      <td>184.60</td>\n",
       "      <td>1821.0</td>\n",
       "      <td>0.16500</td>\n",
       "      <td>0.86810</td>\n",
       "      <td>0.9387</td>\n",
       "      <td>0.2650</td>\n",
       "      <td>0.4087</td>\n",
       "      <td>0.12400</td>\n",
       "    </tr>\n",
       "    <tr>\n",
       "      <th>568</th>\n",
       "      <td>92751</td>\n",
       "      <td>B</td>\n",
       "      <td>7.76</td>\n",
       "      <td>24.54</td>\n",
       "      <td>47.92</td>\n",
       "      <td>181.0</td>\n",
       "      <td>0.05263</td>\n",
       "      <td>0.04362</td>\n",
       "      <td>0.00000</td>\n",
       "      <td>0.00000</td>\n",
       "      <td>...</td>\n",
       "      <td>9.456</td>\n",
       "      <td>30.37</td>\n",
       "      <td>59.16</td>\n",
       "      <td>268.6</td>\n",
       "      <td>0.08996</td>\n",
       "      <td>0.06444</td>\n",
       "      <td>0.0000</td>\n",
       "      <td>0.0000</td>\n",
       "      <td>0.2871</td>\n",
       "      <td>0.07039</td>\n",
       "    </tr>\n",
       "  </tbody>\n",
       "</table>\n",
       "<p>569 rows × 32 columns</p>\n",
       "</div>"
      ],
      "text/plain": [
       "           ID Diagnosis  radius1  texture1  perimeter1   area1  smoothness1  \\\n",
       "0      842302         M    17.99     10.38      122.80  1001.0      0.11840   \n",
       "1      842517         M    20.57     17.77      132.90  1326.0      0.08474   \n",
       "2    84300903         M    19.69     21.25      130.00  1203.0      0.10960   \n",
       "3    84348301         M    11.42     20.38       77.58   386.1      0.14250   \n",
       "4    84358402         M    20.29     14.34      135.10  1297.0      0.10030   \n",
       "..        ...       ...      ...       ...         ...     ...          ...   \n",
       "564    926424         M    21.56     22.39      142.00  1479.0      0.11100   \n",
       "565    926682         M    20.13     28.25      131.20  1261.0      0.09780   \n",
       "566    926954         M    16.60     28.08      108.30   858.1      0.08455   \n",
       "567    927241         M    20.60     29.33      140.10  1265.0      0.11780   \n",
       "568     92751         B     7.76     24.54       47.92   181.0      0.05263   \n",
       "\n",
       "     compactness1  concavity1  concave_points1  ...  radius3  texture3  \\\n",
       "0         0.27760     0.30010          0.14710  ...   25.380     17.33   \n",
       "1         0.07864     0.08690          0.07017  ...   24.990     23.41   \n",
       "2         0.15990     0.19740          0.12790  ...   23.570     25.53   \n",
       "3         0.28390     0.24140          0.10520  ...   14.910     26.50   \n",
       "4         0.13280     0.19800          0.10430  ...   22.540     16.67   \n",
       "..            ...         ...              ...  ...      ...       ...   \n",
       "564       0.11590     0.24390          0.13890  ...   25.450     26.40   \n",
       "565       0.10340     0.14400          0.09791  ...   23.690     38.25   \n",
       "566       0.10230     0.09251          0.05302  ...   18.980     34.12   \n",
       "567       0.27700     0.35140          0.15200  ...   25.740     39.42   \n",
       "568       0.04362     0.00000          0.00000  ...    9.456     30.37   \n",
       "\n",
       "     perimeter3   area3  smoothness3  compactness3  concavity3  \\\n",
       "0        184.60  2019.0      0.16220       0.66560      0.7119   \n",
       "1        158.80  1956.0      0.12380       0.18660      0.2416   \n",
       "2        152.50  1709.0      0.14440       0.42450      0.4504   \n",
       "3         98.87   567.7      0.20980       0.86630      0.6869   \n",
       "4        152.20  1575.0      0.13740       0.20500      0.4000   \n",
       "..          ...     ...          ...           ...         ...   \n",
       "564      166.10  2027.0      0.14100       0.21130      0.4107   \n",
       "565      155.00  1731.0      0.11660       0.19220      0.3215   \n",
       "566      126.70  1124.0      0.11390       0.30940      0.3403   \n",
       "567      184.60  1821.0      0.16500       0.86810      0.9387   \n",
       "568       59.16   268.6      0.08996       0.06444      0.0000   \n",
       "\n",
       "     concave_points3  symmetry3  fractal_dimension3  \n",
       "0             0.2654     0.4601             0.11890  \n",
       "1             0.1860     0.2750             0.08902  \n",
       "2             0.2430     0.3613             0.08758  \n",
       "3             0.2575     0.6638             0.17300  \n",
       "4             0.1625     0.2364             0.07678  \n",
       "..               ...        ...                 ...  \n",
       "564           0.2216     0.2060             0.07115  \n",
       "565           0.1628     0.2572             0.06637  \n",
       "566           0.1418     0.2218             0.07820  \n",
       "567           0.2650     0.4087             0.12400  \n",
       "568           0.0000     0.2871             0.07039  \n",
       "\n",
       "[569 rows x 32 columns]"
      ]
     },
     "execution_count": 57,
     "metadata": {},
     "output_type": "execute_result"
    }
   ],
   "source": [
    "# create dataframe to see data better\n",
    "mydata = pd.read_csv(\"wdbc.data\", names = ['ID', 'Diagnosis', 'radius1', 'texture1', 'perimeter1', 'area1', 'smoothness1', 'compactness1', 'concavity1', 'concave_points1', 'symmetry1', 'fractal_dimension1', 'radius2', 'texture2', 'perimeter2', 'area2', 'smoothness2', 'compactness2', 'concavity2', 'concave_points2', 'symmetry2', 'fractal_dimension2', 'radius3', 'texture3', 'perimeter3', 'area3', 'smoothness3', 'compactness3', 'concavity3', 'concave_points3', 'symmetry3', 'fractal_dimension3'])\n",
    "mydata"
   ]
  },
  {
   "cell_type": "markdown",
   "id": "239b610e-39df-4a8c-9f14-c7a0e7dfeb32",
   "metadata": {},
   "source": [
    "### Convert 'M' and 'B' strings in Diagnosis column to float/binary values "
   ]
  },
  {
   "cell_type": "code",
   "execution_count": 58,
   "id": "1bf3de92-3545-4246-aea4-5fa212ff3109",
   "metadata": {},
   "outputs": [
    {
     "name": "stdout",
     "output_type": "stream",
     "text": [
      "     Diagnosis\n",
      "0            1\n",
      "1            1\n",
      "2            1\n",
      "3            1\n",
      "4            1\n",
      "..         ...\n",
      "564          1\n",
      "565          1\n",
      "566          1\n",
      "567          1\n",
      "568          0\n",
      "\n",
      "[569 rows x 1 columns]\n"
     ]
    }
   ],
   "source": [
    "# Convert string to float: 'M' \n",
    "# y['Diagnosis'] = pd.to_numeric(y['Diagnosis'])\n",
    "# y = y.value..replace(',', '').astype(float)\n",
    "\n",
    "import pandas as pd\n",
    "\n",
    "y = y.replace('M', 1)\n",
    "y = y.replace('B', 0)\n",
    "print(y)"
   ]
  },
  {
   "cell_type": "markdown",
   "id": "85ab8b50-0a0a-4be5-9963-4f28b039c315",
   "metadata": {
    "tags": []
   },
   "source": [
    "# Using cross-validation on logistic regression w/ L1 penalty"
   ]
  },
  {
   "cell_type": "code",
   "execution_count": 2,
   "id": "76eee744-05f6-4282-8255-4aa25ce72ddf",
   "metadata": {},
   "outputs": [],
   "source": [
    "import scipy as sp, numpy as np\n",
    "from sklearn.model_selection import LeaveOneOut\n",
    "import matplotlib.pyplot as plt\n",
    "from scipy.io import loadmat \n",
    "from sklearn.model_selection import cross_val_score\n",
    "from sklearn.linear_model import Lasso\n",
    "from sklearn.linear_model import LogisticRegression\n",
    "from sklearn.svm import SVC\n",
    "from sklearn.preprocessing import StandardScaler\n",
    "from sklearn.metrics import r2_score"
   ]
  },
  {
   "cell_type": "code",
   "execution_count": 60,
   "id": "384bb4da-4ec1-46b4-bcb5-496e1520488a",
   "metadata": {},
   "outputs": [],
   "source": [
    "# Split data into folds \n",
    "def kfold_indices(X, k):\n",
    "    fold_size = len(X) // k\n",
    "    indices = np.arange(len(X))\n",
    "    folds = []\n",
    "    for i in range(k):\n",
    "        test_indices = indices[i * fold_size: (i + 1) * fold_size]\n",
    "        train_indices = np.concatenate([indices[:i * fold_size], indices[(i + 1) * fold_size:]])\n",
    "        folds.append((train_indices, test_indices))\n",
    "    return folds\n",
    "\n",
    "# Define the number of folds (K)\n",
    "k = 10\n",
    "\n",
    "# Get the fold indices\n",
    "fold_indices = kfold_indices(X, k)\n",
    "# print(fold_indices)"
   ]
  },
  {
   "cell_type": "code",
   "execution_count": 61,
   "id": "e8660a55-2262-40b8-914c-c833dba457e2",
   "metadata": {},
   "outputs": [],
   "source": [
    "# Scaling the features\n",
    "scaler = StandardScaler()\n",
    "X = scaler.fit_transform(X)"
   ]
  },
  {
   "cell_type": "markdown",
   "id": "d59a6f7c-0718-4367-b4f1-df619d721296",
   "metadata": {},
   "source": [
    "## Implementing k-fold CV "
   ]
  },
  {
   "cell_type": "code",
   "execution_count": 62,
   "id": "06562d63-340f-4dab-beda-1745a9b6d2f0",
   "metadata": {},
   "outputs": [
    {
     "name": "stdout",
     "output_type": "stream",
     "text": [
      "The mean R^2 score is:  0.8600405104553278\n"
     ]
    }
   ],
   "source": [
    "## Using 10-fold cross validation for logistic regression with LASSO penalty \n",
    "\n",
    "# Initialize machine learning model \n",
    "model = LogisticRegression(penalty = 'l1', solver = 'saga', max_iter = 50000) # Use lasso and saga\n",
    "\n",
    "# Initialize a list to store cv scores\n",
    "r2_scores_list = []\n",
    "\n",
    "# Iterate through each fold\n",
    "for train_indices, test_indices in fold_indices:\n",
    "    X_train, y_train = X[train_indices], y.iloc[train_indices]\n",
    "    X_test, y_test = X[test_indices], y.iloc[test_indices]\n",
    "    \n",
    "    # Train the model on the training data\n",
    "    model.fit(X_train, y_train.to_numpy().ravel())\n",
    "    \n",
    "    # Make predictions on the test data\n",
    "    y_pred = model.predict(X_test)\n",
    "    \n",
    "    # Calculate the r2 score for this fold\n",
    "    r2_scores = r2_score(y_test.values.astype(float), y_pred.astype(float))  \n",
    "    \n",
    "     # Append the r2 score to the list of scores\n",
    "    r2_scores_list.append(r2_scores)\n",
    "      \n",
    "# Calculate the mean r2 score across all folds\n",
    "mean_r2score = np.mean(r2_scores_list)\n",
    "print(\"The mean R^2 score is: \", mean_r2score)"
   ]
  },
  {
   "cell_type": "code",
   "execution_count": 35,
   "id": "4bd0e58b-991a-48bf-9fab-8b0c8052c56a",
   "metadata": {},
   "outputs": [
    {
     "name": "stdout",
     "output_type": "stream",
     "text": [
      "The mean CV score is: 0.9714285714285715\n"
     ]
    }
   ],
   "source": [
    "## Finding mean accuracy score for kfold CV\n",
    "cv_score = cross_val_score(model, X, y.to_numpy().ravel(), cv = fold_indices)\n",
    "mean_cv_score = np.mean(cv_score)\n",
    "print('The mean CV score is:', mean_cv_score)"
   ]
  },
  {
   "cell_type": "markdown",
   "id": "888b419d-a1f8-4cef-b87e-9ffa317467c7",
   "metadata": {},
   "source": [
    "## Implementing Leave-one-out CV"
   ]
  },
  {
   "cell_type": "code",
   "execution_count": 65,
   "id": "b7f3ad3e-ffec-4a87-8931-e4ce9a28b13e",
   "metadata": {},
   "outputs": [
    {
     "name": "stdout",
     "output_type": "stream",
     "text": [
      "The mean R^2 score is:  0.8676122931442081\n"
     ]
    }
   ],
   "source": [
    "## Using Leave-one-out CV for logistic regression w/ LASSO penalty \n",
    "\n",
    "# Initialize a list to store the evaluation scores\n",
    "r2_scores_list = []\n",
    "\n",
    "for train_indices, test_indices in LeaveOneOut().split(X):  \n",
    "    \n",
    "    # Train the model on the training data\n",
    "    model.fit(X_train, y_train.to_numpy().ravel())\n",
    "    \n",
    "    # Make predictions on the test data\n",
    "    y_pred_loo = model.predict(X_test)\n",
    "    \n",
    "    # Calculate the r2 score for this fold\n",
    "    r2_scores = r2_score(y_test.values.astype(float), y_pred_loo.astype(float)) \n",
    "    \n",
    "    # Append the r2 score to the list of scores\n",
    "    r2_scores_list.append(r2_scores)\n",
    "      \n",
    "# Calculate the mean r2 score across all folds\n",
    "mean_r2score = np.mean(r2_scores_list)\n",
    "print(\"The mean R^2 score is: \", mean_r2score)"
   ]
  },
  {
   "cell_type": "code",
   "execution_count": 40,
   "id": "d82764f5-0aab-4294-8eea-7fcf8c760640",
   "metadata": {},
   "outputs": [
    {
     "name": "stdout",
     "output_type": "stream",
     "text": [
      "The mean CV score is: 0.9771528998242531\n"
     ]
    }
   ],
   "source": [
    "## Finding mean accuracy score for Leave-one-out CV\n",
    "\n",
    "cv_score = cross_val_score(model, X, y.to_numpy().ravel(), cv = LeaveOneOut())\n",
    "mean_cv_score = np.mean(cv_score)\n",
    "print('The mean CV score is:', mean_cv_score)"
   ]
  },
  {
   "cell_type": "markdown",
   "id": "c79ce095-deca-420e-bb2b-afd6f46347f2",
   "metadata": {},
   "source": [
    "# Using cross validation on SVM"
   ]
  },
  {
   "cell_type": "markdown",
   "id": "1439b26e-7fcb-472f-ac7b-d816dbe3b449",
   "metadata": {},
   "source": [
    "## Implementing k-fold CV"
   ]
  },
  {
   "cell_type": "code",
   "execution_count": null,
   "id": "6cad870f-a398-46dd-aac6-b8c181c4c1b6",
   "metadata": {},
   "outputs": [],
   "source": [
    "## Using 10-fold cross validation for SVM \n",
    "\n",
    "# Initialize machine learning model \n",
    "model2 = SVC(kernel = 'rbf')\n",
    "\n",
    "# Initialize a list to store the evaluation scores\n",
    "r2_scores_list = []\n",
    "\n",
    "# Iterate through each fold\n",
    "for train_indices, test_indices in fold_indices:\n",
    "    X_train, y_train = X[train_indices,], y.iloc[train_indices]\n",
    "    X_test, y_test = X[test_indices], y.iloc[test_indices]\n",
    "    \n",
    "    # Train the model on the training data\n",
    "    model.fit(X_train, y_train.to_numpy().ravel())\n",
    "    \n",
    "    # Make predictions on the test data\n",
    "    y_pred = model.predict(X_test)\n",
    "    \n",
    "    # Calculate the r2 score for this fold\n",
    "    r2_scores = r2_score(y_test.values.astype(float), y_pred.astype(float)) \n",
    "    \n",
    "    # Append the r2 score to the list of scores\n",
    "    r2_scores_list.append(r2_scores)\n",
    "      \n",
    "# Calculate the mean r2 score across all folds\n",
    "mean_r2score_svm1 = np.mean(r2_scores_list)\n",
    "print(\"The mean R^2 score is: \", mean_r2score_svm1)"
   ]
  },
  {
   "cell_type": "code",
   "execution_count": 43,
   "id": "88babf78-0436-444f-b40e-48889efece63",
   "metadata": {},
   "outputs": [
    {
     "name": "stdout",
     "output_type": "stream",
     "text": [
      "The mean CV score is: 0.9767857142857143\n"
     ]
    }
   ],
   "source": [
    "## Finding mean accuracy score for kfold CV\n",
    "\n",
    "cv_score = cross_val_score(model2, X, y.to_numpy().ravel(), cv = fold_indices)\n",
    "mean_cv_score = np.mean(cv_score)\n",
    "print('The mean CV score is:', mean_cv_score)"
   ]
  },
  {
   "cell_type": "markdown",
   "id": "ce76c4ed-d2c8-4657-b97b-42e93c6e1591",
   "metadata": {},
   "source": [
    "## Using Leave-one-out CV"
   ]
  },
  {
   "cell_type": "code",
   "execution_count": null,
   "id": "d01b7978-e253-40d5-b6bb-ec3368efdb16",
   "metadata": {},
   "outputs": [],
   "source": [
    "## Using Leave-one-out CV for logistic regression w/ LASSO penalty \n",
    "\n",
    "# Initialize a list to store the evaluation scores\n",
    "r2_scores_list = []\n",
    "\n",
    "for train_indices, test_indices in LeaveOneOut().split(X):  \n",
    "    \n",
    "    # Train the model on the training data\n",
    "    model2.fit(X_train, y_train.to_numpy().ravel())\n",
    "    \n",
    "    # Make predictions on the test data\n",
    "    y_pred_loo = model2.predict(X_test)\n",
    "    \n",
    "    # Calculate the r2 score for this fold\n",
    "    r2_scores = r2_score(y_test.values.astype(float), y_pred_loo.astype(float)) \n",
    "    \n",
    "    # Append the r2 score to the list of scores\n",
    "    r2_scores_list.append(r2_scores)\n",
    "      \n",
    "# Calculate the mean r2 score across all folds\n",
    "mean_r2score_svm2 = np.mean(r2_scores_list)\n",
    "print(\"The mean R^2 score is: \", mean_r2score_svm2)"
   ]
  },
  {
   "cell_type": "code",
   "execution_count": 45,
   "id": "7e2f38bb-11dd-4527-8527-d90e4017f9c9",
   "metadata": {},
   "outputs": [
    {
     "name": "stdout",
     "output_type": "stream",
     "text": [
      "The mean CV score is: 0.9771528998242531\n"
     ]
    }
   ],
   "source": [
    "## Finding mean accuracy score for Leave-one-out CV\n",
    "\n",
    "cv_score = cross_val_score(model2, X, y.to_numpy().ravel(), cv = LeaveOneOut())\n",
    "mean_cv_score = np.mean(cv_score)\n",
    "print('The mean CV score is:', mean_cv_score)"
   ]
  },
  {
   "cell_type": "markdown",
   "id": "5e95717c-751b-4e9e-a789-2a616a909758",
   "metadata": {},
   "source": [
    "# Create figures comparing type of models and cross validation used"
   ]
  },
  {
   "cell_type": "code",
   "execution_count": 67,
   "id": "a63919f4-a820-40c0-82d2-ddc784729f0f",
   "metadata": {},
   "outputs": [
    {
     "data": {
      "image/png": "[encoded data removed]",
      "text/plain": [
       "<Figure size 640x480 with 1 Axes>"
      ]
     },
     "metadata": {},
     "output_type": "display_data"
    }
   ],
   "source": [
    "# Create bar graph comparing R2 scores for Leave-one-out and k-fold CV \n",
    "import matplotlib.pyplot as plt\n",
    "import seaborn as sns\n",
    "\n",
    "X = ['Logistic Regression', 'SVM'] \n",
    "\n",
    "# Logistic regression \n",
    "mean_r2score_kfold = 0.8600405104553278\n",
    "mean_r2score_loo = 0.8676122931442078\n",
    "\n",
    "# SVM \n",
    "mean_r2score_svm1 = 0.8600405104553278\n",
    "mean_r2score_svm2 = 0.7352245862884161\n",
    "\n",
    "logreg = [mean_r2score_kfold, mean_r2score_loo]\n",
    "svm = [mean_r2score_svm1, mean_r2score_svm2] \n",
    "\n",
    "X_axis = np.arange(len(X)) \n",
    "\n",
    "plt.bar(X_axis - 0.2, logreg, 0.4, label = 'k-fold CV', color = 'lightpink', edgecolor = 'black') \n",
    "plt.bar(X_axis + 0.2, svm, 0.4, label = 'Leave-one-out CV', color = 'lightblue', edgecolor = 'black') \n",
    "  \n",
    "plt.xticks(X_axis, X) \n",
    "plt.xlabel(\"Type of Model\") \n",
    "plt.ylabel(\"Mean R2 Score\") \n",
    "plt.ylim(top = 1)\n",
    "plt.title(\"Mean R2 Scores for SVM and Logistic Regression Models\") \n",
    "plt.legend() \n",
    "plt.show() "
   ]
  },
  {
   "cell_type": "code",
   "execution_count": 3,
   "id": "caa37a05-b5ed-451f-ab7c-2adcd891780e",
   "metadata": {},
   "outputs": [
    {
     "data": {
      "image/png": "[encoded data removed]",
      "text/plain": [
       "<Figure size 640x480 with 1 Axes>"
      ]
     },
     "metadata": {},
     "output_type": "display_data"
    }
   ],
   "source": [
    "# Create bar graph comparing accuracy scores for CV AND bootstrapping\n",
    "\n",
    "X = ['Logistic Regression', 'SVM'] \n",
    "\n",
    "# Mean accuracy scores from bootstrapping from Pranathi's code: \n",
    "mean_acscore_log_boot = 0.9313982300884955\n",
    "mean_acscore_svm_boot = 0.934858407079646\n",
    "\n",
    "# Logistic regression \n",
    "mean_acscore_kfold = 0.9714285714285715\n",
    "mean_acscore_loo = 0.9771528998242531\n",
    "\n",
    "# SVM \n",
    "mean_acscore_svm1 = 0.9767857142857143\n",
    "mean_acscore_svm2 = 0.9771528998242531\n",
    "\n",
    "k_fold_values = [mean_acscore_kfold, mean_acscore_svm1] \n",
    "loo_values = [mean_acscore_loo, mean_acscore_svm2]\n",
    "bootstrap_values = [mean_acscore_log_boot, mean_acscore_svm_boot] \n",
    "\n",
    "x = np.arange(2) \n",
    "width = 0.2\n",
    "\n",
    "plt.bar(x-0.2, k_fold_values, width, color='pink', edgecolor = 'black') \n",
    "plt.bar(x, loo_values, width, color='lightblue', edgecolor = 'black') \n",
    "plt.bar(x+0.2, bootstrap_values, width, color='thistle', edgecolor = 'black') \n",
    "plt.xticks(x, ['Logistic Regression', 'SVM']) \n",
    "plt.xlabel(\"Type of Model\") \n",
    "plt.ylabel(\"Mean Accuracy Scores\") \n",
    "plt.ylim(top = 1)\n",
    "plt.title(\"Mean Accuracy Scores for SVM and Logistic Regression Models\") \n",
    "plt.legend([\"k-fold CV\", \"Leave-one-out CV\", \"Bootstrapping\"]) \n",
    "plt.show() "
   ]
  },
  {
   "cell_type": "code",
   "execution_count": null,
   "id": "1096b3e7-6918-4659-a3dc-3cb94021309c",
   "metadata": {},
   "outputs": [],
   "source": []
  }
 ],
 "metadata": {
  "kernelspec": {
   "display_name": "Python 3 (ipykernel)",
   "language": "python",
   "name": "python3"
  },
  "language_info": {
   "codemirror_mode": {
    "name": "ipython",
    "version": 3
   },
   "file_extension": ".py",
   "mimetype": "text/x-python",
   "name": "python",
   "nbconvert_exporter": "python",
   "pygments_lexer": "ipython3",
   "version": "3.10.8"
  }
 },
 "nbformat": 4,
 "nbformat_minor": 5
}
